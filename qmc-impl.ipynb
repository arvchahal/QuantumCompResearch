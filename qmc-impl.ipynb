{
 "cells": [
  {
   "cell_type": "code",
   "execution_count": 11,
   "metadata": {},
   "outputs": [],
   "source": [
    "import numpy as np\n",
    "from qiskit import QuantumCircuit, transpile,assemble\n",
    "from qiskit_aer import AerSimulator\n",
    "from qiskit.quantum_info import Operator"
   ]
  },
  {
   "cell_type": "code",
   "execution_count": 12,
   "metadata": {},
   "outputs": [],
   "source": [
    "\n",
    "def calculate_eigenvalues(sigma, t):\n",
    "    b = np.exp(sigma * np.sqrt(1/t)) - 1\n",
    "    return b\n",
    "\n",
    "def build_quantum_op(b, r, t):\n",
    "    a = -b  # Symmetric up and down movements\n",
    "    A = np.array([[1+b, 0], [0, 1+a]])\n",
    "    return A\n",
    "\n",
    "# Parameters\n",
    "sigma = 0.1\n",
    "r = 0.05\n",
    "T = 1\n",
    "N = 3\n",
    "t = T / N\n",
    "\n",
    "b = calculate_eigenvalues(sigma, t)\n",
    "A = build_quantum_op(b, r, t)\n",
    "eigenvalues, eigenvectors = np.linalg.eigh(A)\n",
    "\n"
   ]
  },
  {
   "cell_type": "code",
   "execution_count": 22,
   "metadata": {},
   "outputs": [],
   "source": [
    "qc = QuantumCircuit(N)\n",
    "\n",
    "# Assuming the same dynamics on each qubit\n",
    "for i in range(N):\n",
    "    initial_state = eigenvectors[:, 0]  # Use the first eigenvector\n",
    "    qc.initialize(initial_state, [i])  # Initialize each qubit independently\n"
   ]
  },
  {
   "cell_type": "code",
   "execution_count": 21,
   "metadata": {},
   "outputs": [
    {
     "name": "stdout",
     "output_type": "stream",
     "text": [
      "2\n",
      "3\n"
     ]
    }
   ],
   "source": [
    "# now we need to prepare the intitial quantum state on the density matrix\n",
    "\n",
    "# def init_quant_state(qc, eigenvectors, qubits):\n",
    "#     # Initialize to the first eigenvector if it's dimensionally correct\n",
    "#     if eigenvectors.shape[1] == 2**qubits:\n",
    "#         initial_state = eigenvectors[:, 0]\n",
    "#         qc.initialize(initial_state, range(qubits))\n",
    "#     else:\n",
    "#         print(eigenvectors.shape[1])\n",
    "#         print(qubits)\n",
    "#         #raise ValueError(\"The dimension of the eigenvector does not match the number of qubits.\")\n",
    "\n",
    "# qc=QuantumCircuit(N)\n",
    "# init_quant_state(qc,eigenvectors,N)\n",
    "\n",
    "\n"
   ]
  },
  {
   "cell_type": "code",
   "execution_count": 23,
   "metadata": {},
   "outputs": [],
   "source": [
    "def apply_stock_movements(qc, num_periods, up_theta, down_theta):\n",
    "    for i in range(num_periods):\n",
    "        qc.h(i)  # Create superposition\n",
    "        qc.cry(up_theta, i, (i + 1) % num_periods)  # Controlled-RY for up movement\n",
    "        qc.cry(down_theta, i, (i + 1) % num_periods)  # Controlled-RY for down movement\n",
    "\n",
    "apply_stock_movements(qc, N, np.pi/4, -np.pi/4)\n",
    "qc.measure_all()\n"
   ]
  },
  {
   "cell_type": "code",
   "execution_count": 25,
   "metadata": {},
   "outputs": [
    {
     "name": "stdout",
     "output_type": "stream",
     "text": [
      "{'100': 113, '110': 132, '011': 145, '000': 122, '001': 142, '010': 119, '101': 118, '111': 109}\n"
     ]
    },
    {
     "name": "stderr",
     "output_type": "stream",
     "text": [
      "C:\\Users\\chaha\\AppData\\Local\\Temp\\ipykernel_9516\\2237938607.py:4: DeprecationWarning: Using a qobj for run() is deprecated as of qiskit-aer 0.14 and will be removed no sooner than 3 months from that release date. Transpiled circuits should now be passed directly using `backend.run(circuits, **run_options).\n",
      "  result = simulator.run(qobj).result()\n"
     ]
    }
   ],
   "source": [
    "simulator = AerSimulator()\n",
    "transpiled_circuit = transpile(qc, simulator)\n",
    "qobj = assemble(transpiled_circuit, shots=1000)\n",
    "result = simulator.run(qobj).result()\n",
    "counts = result.get_counts(qc)\n",
    "print(counts)\n"
   ]
  },
  {
   "cell_type": "code",
   "execution_count": 26,
   "metadata": {},
   "outputs": [
    {
     "name": "stdout",
     "output_type": "stream",
     "text": [
      "{'101': 51, '110': 60, '111': 61}\n"
     ]
    }
   ],
   "source": [
    "#set strike price\n",
    "K=50\n",
    "def calculate_payoffs(final,K):\n",
    "    payoffs = {k: max(int(k) - K, 0) for k in final_prices.keys()}\n",
    "    return payoffs\n",
    "\n",
    "# Assuming 'counts' is a dictionary where keys are final stock prices and values are their frequencies\n",
    "final_prices = {'101': 500, '110': 300, '111': 200}  # Example output of quantum simulation\n",
    "payoffs = calculate_payoffs(final_prices, K)\n",
    "print(payoffs)"
   ]
  }
 ],
 "metadata": {
  "kernelspec": {
   "display_name": "env",
   "language": "python",
   "name": "python3"
  },
  "language_info": {
   "codemirror_mode": {
    "name": "ipython",
    "version": 3
   },
   "file_extension": ".py",
   "mimetype": "text/x-python",
   "name": "python",
   "nbconvert_exporter": "python",
   "pygments_lexer": "ipython3",
   "version": "3.12.2"
  }
 },
 "nbformat": 4,
 "nbformat_minor": 2
}
