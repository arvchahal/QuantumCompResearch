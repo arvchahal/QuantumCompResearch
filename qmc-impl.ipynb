{
 "cells": [
  {
   "cell_type": "code",
   "execution_count": 1,
   "metadata": {},
   "outputs": [],
   "source": [
    "import numpy as np\n",
    "from qiskit import QuantumCircuit, transpile,assemble\n",
    "from qiskit_aer import AerSimulator\n",
    "from qiskit.quantum_info import Operator"
   ]
  },
  {
   "cell_type": "markdown",
   "metadata": {},
   "source": [
    "Before any coding first lets define our binonmial options tree class which we will use in the future when we actually price our options contracts"
   ]
  },
  {
   "cell_type": "code",
   "execution_count": 2,
   "metadata": {},
   "outputs": [],
   "source": [
    "#specific nodes of the binomial tree\n",
    "class bnNode:\n",
    "    def __init__(self, val):\n",
    "        self.val = val #price of the stock at certain point at root will be strike price\n",
    "        self.up = None #points to an upmovemnt node\n",
    "        self.down = None #points to a downmovement node\n",
    "\n",
    "    def __repr__(self):\n",
    "        return f\"bnNode(val={self.val})\" #printer function to print curr val of the stock at given point\n",
    "\n",
    "#the tree itself\n",
    "class BinomialTree:\n",
    "    def __init__(self, S0, upSz, downSz, NumStps):\n",
    "        self.root = bnNode(S0) # root node to the strike price\n",
    "        self.upSz = upSz #percent by which stock price increases ie increase of 10% in one step => 1.1\n",
    "        self.downSz = downSz #percent by which stock price decreases ie decrease of 10% in one step => 0.9\n",
    "        self.NumStps = NumStps #total number of steps in the tree itself\n",
    "        self.build_tree(self.root, 0)\n",
    "\n",
    "    def build_tree(self, node, step):\n",
    "        if step < self.NumStps:\n",
    "            node.up = bnNode(node.val * self.upSz)\n",
    "            node.down = bnNode(node.val * self.downSz)\n",
    "\n",
    "            #recrusively build the rest of the tree\n",
    "            self.build_tree(node.up, step + 1)\n",
    "            self.build_tree(node.down, step + 1)\n",
    "\n",
    "\n"
   ]
  },
  {
   "cell_type": "code",
   "execution_count": 3,
   "metadata": {},
   "outputs": [],
   "source": [
    "\n",
    "#simply defines an up-movement in stock price and by how much\n",
    "def up_move(sigma, t):\n",
    "    b = np.exp(sigma * np.sqrt(1/t)) - 1\n",
    "    return b\n",
    "\n",
    "#this consctructs the quantum operator whcih is a matrix\n",
    "#that represents the possible price movements of the stock\n",
    "#diagonal matrix\n",
    "def build_quantum_op(b, r, t):\n",
    "    a = -b  # Symmetric up and down movements\n",
    "    A = np.array([[1+b, 0], [0, 1+a]])\n",
    "    return A\n",
    "\n",
    "# Parameters in math notation according to the paper\n",
    "sigma = 0.1 #volatility\n",
    "r = 0.05 #risk free interest rate\n",
    "T = 1 # total time period\n",
    "N = 3 #number of steps in the binomial model\n",
    "t = T / N # time increment per step\n",
    "\n",
    "b = up_move(sigma, t) #up movement factor\n",
    "A = build_quantum_op(b, r, t)\n",
    "eigenvalues, eigenvectors = np.linalg.eigh(A)\n",
    "\n"
   ]
  },
  {
   "cell_type": "markdown",
   "metadata": {},
   "source": [
    "\n",
    "The initialization of the density matrix for the quantum binomial model is given by the equation:\n",
    "\n",
    "\\[\n",
    "\\rho = \\bigotimes_{j=1}^{N} \\left( |u_j\\rangle \\langle u_j| (1 - q) + |v_j\\rangle \\langle v_j| q \\right)\n",
    "\\]\n",
    "\n",
    "where:\n",
    "- \\( \\bigotimes \\) denotes the tensor product,\n",
    "- \\( N \\) is the number of steps,\n",
    "- \\( |u_j\\rangle \\) and \\( |v_j\\rangle \\) represent the quantum states for up and down movements, respectively,\n",
    "- \\( 1 - q \\) is the probability of an up movement,\n",
    "- \\( q \\) is the probability of a down movement.\n",
    "\n",
    "\n"
   ]
  },
  {
   "cell_type": "code",
   "execution_count": 5,
   "metadata": {},
   "outputs": [],
   "source": [
    "# Now we need to intialize density matrix using the\n",
    "# eigenvectors and constructing mixed stat for each qubit\n",
    "\n",
    "\n",
    "#pass in a ref to our binomial options tree root node\n",
    "def buildDensityMatr(BinTree:BinomialTree):\n",
    "  intial_state = np.zeros(2**BinTree.NumStps,dtype=complex) #total number of states N is the number of steps in the model as such need 2^N states as each step has an up step and a down step\n",
    "\n",
    "\n",
    "\n",
    "#Calculate q or the risk-neutral probability whcih we will represent by\n",
    "#the variable risk_neut_prob\n",
    "  risk_neut_prob = (np.exp(r*t) - BinTree.downSz)/(BinTree.upSz-BinTree.downSz)\n",
    "\n",
    "  #recusively build the density matrix starting at the root node of the bintree and going throuhg the entire tree\n",
    "  #updating the matrix each way as it goes through each step\n",
    "  def recursive_build(node):\n",
    "      #ie no other nodes left so we make the matrix itself here \n",
    "      if node.up is None and node.down is None:\n",
    "            # np.outer it a function that does an outer-product it will reutrn a matrix \n",
    "            # this is going to construct the density matrix from the state with the first column of the eigenvector and its complex conjugate\n",
    "            # one example of an outer product and what it will look like is if we have: The outer product of [1, 0] and [1, 0] is: [[1*1, 1*0],[0*1,0*0]] resulting in [[1, 0],[0,0]]\n",
    "            #another representation is first row: [1*1, 1*0] second row: [0*1,0*0] resulting in first row [1,0] second row [0,0]\n",
    "          return np.outer(eigenvectors[:, 0], np.conj(eigenvectors[:, 0])) #\n",
    "      else:\n",
    "          # Recursively build density matrices for child nodes\n",
    "        \n",
    "          up_density = recursive_build(node.up)\n",
    "          down_density = recursive_build(node.down)\n",
    "          # we finally get to the end of the tree when we get to this line.  Then we can calculat the node density below and update the density matrix\n",
    "          # Then the up density and down Density will be a matrix itself that is going to be updated using the previous densities so \n",
    "          \n",
    "          # Calculate node density as weighted sum of up and down densities\n",
    "\n",
    "            #the best way to think of this is that when we get to the end of the tree ie last node or leaf node this leaf node points to nothing and is the end\n",
    "            # based on our binomial tree each node will either have two children or no children like a leaf node so this leaf node is either a up movement or a down movement\n",
    "            # visual:\n",
    "\n",
    "\n",
    "              #          __node1_up -> null\n",
    "              #        _/\n",
    "              #-node 1  \n",
    "              #       _\n",
    "              #        \\\n",
    "              #         ⎻⎻ node1_down ->null\n",
    "                        \n",
    "                  # the node1_up val will be unique from the node1 down becaus w are using the eigenvctors to represent different \n",
    "                  #quantum states and so each leaf node corresponds to a unique state derived from the binomial tree's possible outcomes\n",
    "\n",
    "\n",
    "            # Example: if up_density = [[1, 0], [0, 0]] and down_density = [[0, 0], [0, 1]], with risk_neut_prob = 0.6\n",
    "            # node_density = 0.4 * [[1, 0], [0, 0]] + 0.6 * [[0, 0], [0, 1]]\n",
    "            #              = [[0.4, 0], [0, 0]] + [[0, 0], [0, 0.6]]\n",
    "            #              = [[0.4, 0], [0, 0.6]]\n",
    "\n",
    "            \n",
    "          node_density = (1 - risk_neut_prob) * up_density + risk_neut_prob * down_density\n",
    "          return node_density\n",
    "\n",
    "    # Start recursion from the root node\n",
    "  root_density = recursive_build(BinTree.root)\n",
    "  return root_density"
   ]
  },
  {
   "cell_type": "markdown",
   "metadata": {},
   "source": [
    "##\n",
    "The below code is still to be completed the above code should work\n",
    "##"
   ]
  },
  {
   "cell_type": "code",
   "execution_count": 22,
   "metadata": {},
   "outputs": [],
   "source": [
    "qc = QuantumCircuit(N)\n",
    "\n",
    "# Assuming the same dynamics on each qubit\n",
    "for i in range(N):\n",
    "    initial_state = eigenvectors[:, 0]  # Use the first eigenvector\n",
    "    qc.initialize(initial_state, [i])  # Initialize each qubit independently\n"
   ]
  },
  {
   "cell_type": "code",
   "execution_count": 23,
   "metadata": {},
   "outputs": [],
   "source": [
    "def apply_stock_movements(qc, num_periods, up_theta, down_theta):\n",
    "    for i in range(num_periods):\n",
    "        qc.h(i)  # Create superposition\n",
    "        qc.cry(up_theta, i, (i + 1) % num_periods)  # Controlled-RY for up movement\n",
    "        qc.cry(down_theta, i, (i + 1) % num_periods)  # Controlled-RY for down movement\n",
    "\n",
    "apply_stock_movements(qc, N, np.pi/4, -np.pi/4)\n",
    "qc.measure_all()\n"
   ]
  },
  {
   "cell_type": "code",
   "execution_count": 25,
   "metadata": {},
   "outputs": [
    {
     "name": "stdout",
     "output_type": "stream",
     "text": [
      "{'100': 113, '110': 132, '011': 145, '000': 122, '001': 142, '010': 119, '101': 118, '111': 109}\n"
     ]
    },
    {
     "name": "stderr",
     "output_type": "stream",
     "text": [
      "C:\\Users\\chaha\\AppData\\Local\\Temp\\ipykernel_9516\\2237938607.py:4: DeprecationWarning: Using a qobj for run() is deprecated as of qiskit-aer 0.14 and will be removed no sooner than 3 months from that release date. Transpiled circuits should now be passed directly using `backend.run(circuits, **run_options).\n",
      "  result = simulator.run(qobj).result()\n"
     ]
    }
   ],
   "source": [
    "simulator = AerSimulator()\n",
    "transpiled_circuit = transpile(qc, simulator)\n",
    "qobj = assemble(transpiled_circuit, shots=1000)\n",
    "result = simulator.run(qobj).result()\n",
    "counts = result.get_counts(qc)\n",
    "print(counts)\n"
   ]
  },
  {
   "cell_type": "code",
   "execution_count": 26,
   "metadata": {},
   "outputs": [
    {
     "name": "stdout",
     "output_type": "stream",
     "text": [
      "{'101': 51, '110': 60, '111': 61}\n"
     ]
    }
   ],
   "source": [
    "#set strike price\n",
    "K=50\n",
    "def calculate_payoffs(final,K):\n",
    "    payoffs = {k: max(int(k) - K, 0) for k in final_prices.keys()}\n",
    "    return payoffs\n",
    "\n",
    "# Assuming 'counts' is a dictionary where keys are final stock prices and values are their frequencies\n",
    "final_prices = {'101': 500, '110': 300, '111': 200}  # Example output of quantum simulation\n",
    "payoffs = calculate_payoffs(final_prices, K)\n",
    "print(payoffs)"
   ]
  }
 ],
 "metadata": {
  "kernelspec": {
   "display_name": "env",
   "language": "python",
   "name": "python3"
  },
  "language_info": {
   "codemirror_mode": {
    "name": "ipython",
    "version": 3
   },
   "file_extension": ".py",
   "mimetype": "text/x-python",
   "name": "python",
   "nbconvert_exporter": "python",
   "pygments_lexer": "ipython3",
   "version": "3.12.2"
  }
 },
 "nbformat": 4,
 "nbformat_minor": 2
}
